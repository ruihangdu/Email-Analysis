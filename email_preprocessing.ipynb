{
 "cells": [
  {
   "cell_type": "code",
   "execution_count": 1,
   "metadata": {},
   "outputs": [
    {
     "name": "stderr",
     "output_type": "stream",
     "text": [
      "[nltk_data] Downloading package stopwords to /Users/ray/nltk_data...\n",
      "[nltk_data]   Package stopwords is already up-to-date!\n",
      "[nltk_data] Downloading package wordnet to /Users/ray/nltk_data...\n",
      "[nltk_data]   Package wordnet is already up-to-date!\n",
      "[nltk_data] Downloading package omw-1.4 to /Users/ray/nltk_data...\n",
      "[nltk_data]   Package omw-1.4 is already up-to-date!\n"
     ]
    }
   ],
   "source": [
    "# standard lib imports\n",
    "from collections import defaultdict, Counter\n",
    "from datetime import datetime\n",
    "from email.header import decode_header\n",
    "from email.iterators import *\n",
    "from email.iterators import _structure\n",
    "from email.parser import HeaderParser\n",
    "from email.utils import parsedate_tz, mktime_tz\n",
    "import html\n",
    "from mailbox import mbox\n",
    "import os\n",
    "\n",
    "# third party imports\n",
    "from bs4 import BeautifulSoup\n",
    "import contractions\n",
    "import matplotlib.pyplot as plt\n",
    "import nltk\n",
    "from nltk.stem import WordNetLemmatizer\n",
    "nltk.download('stopwords')\n",
    "nltk.download('wordnet')\n",
    "nltk.download('omw-1.4')\n",
    "from nltk.corpus import stopwords\n",
    "import numpy as np\n",
    "import pandas as pd\n",
    "from pprint import pprint\n",
    "import re\n",
    "import seaborn as sns\n",
    "\n",
    "# disable warnings from libraries\n",
    "import warnings\n",
    "warnings.filterwarnings('ignore')\n",
    "warnings.simplefilter('ignore')\n",
    "\n",
    "%matplotlib inline\n",
    "\n",
    "wnl = WordNetLemmatizer()"
   ]
  },
  {
   "cell_type": "code",
   "execution_count": 2,
   "metadata": {},
   "outputs": [],
   "source": [
    "msg_time_to_ts = lambda m: mktime_tz(parsedate_tz(m['Date']))"
   ]
  },
  {
   "cell_type": "code",
   "execution_count": 3,
   "metadata": {},
   "outputs": [],
   "source": [
    "workdir = \"<masked out>\""
   ]
  },
  {
   "cell_type": "code",
   "execution_count": 4,
   "metadata": {},
   "outputs": [],
   "source": [
    "opened_mails = mbox(os.path.join(workdir, 'Opened.mbox'), create=False)"
   ]
  },
  {
   "cell_type": "code",
   "execution_count": 5,
   "metadata": {},
   "outputs": [],
   "source": [
    "opened_mail_list = list(opened_mails)"
   ]
  },
  {
   "cell_type": "code",
   "execution_count": 6,
   "metadata": {},
   "outputs": [
    {
     "data": {
      "text/plain": [
       "2017"
      ]
     },
     "execution_count": 6,
     "metadata": {},
     "output_type": "execute_result"
    }
   ],
   "source": [
    "len(opened_mail_list)"
   ]
  },
  {
   "cell_type": "code",
   "execution_count": 7,
   "metadata": {},
   "outputs": [],
   "source": [
    "opened_mail_list.sort(key=msg_time_to_ts, reverse=True)"
   ]
  },
  {
   "cell_type": "code",
   "execution_count": 8,
   "metadata": {},
   "outputs": [],
   "source": [
    "msg_datetime_cutoff = datetime.fromisoformat('2020-06-01').timestamp()\n",
    "opened_mail_list = list(filter(lambda m: msg_time_to_ts(m) > msg_datetime_cutoff, opened_mail_list))"
   ]
  },
  {
   "cell_type": "code",
   "execution_count": 9,
   "metadata": {
    "scrolled": true
   },
   "outputs": [
    {
     "data": {
      "text/plain": [
       "1346"
      ]
     },
     "execution_count": 9,
     "metadata": {},
     "output_type": "execute_result"
    }
   ],
   "source": [
    "len(opened_mail_list)"
   ]
  },
  {
   "cell_type": "code",
   "execution_count": 10,
   "metadata": {},
   "outputs": [],
   "source": [
    "# now we clean data for unread mails\n",
    "unread_mail_list = list(mbox(os.path.join(workdir, 'Unread.mbox'), create=False))"
   ]
  },
  {
   "cell_type": "code",
   "execution_count": 11,
   "metadata": {},
   "outputs": [
    {
     "data": {
      "text/plain": [
       "5361"
      ]
     },
     "execution_count": 11,
     "metadata": {},
     "output_type": "execute_result"
    }
   ],
   "source": [
    "len(unread_mail_list)"
   ]
  },
  {
   "cell_type": "code",
   "execution_count": 12,
   "metadata": {},
   "outputs": [],
   "source": [
    "unread_mail_list = list(filter(lambda m: m[\"Date\"], unread_mail_list))"
   ]
  },
  {
   "cell_type": "code",
   "execution_count": 13,
   "metadata": {},
   "outputs": [
    {
     "data": {
      "text/plain": [
       "5360"
      ]
     },
     "execution_count": 13,
     "metadata": {},
     "output_type": "execute_result"
    }
   ],
   "source": [
    "len(unread_mail_list)"
   ]
  },
  {
   "cell_type": "code",
   "execution_count": 14,
   "metadata": {},
   "outputs": [],
   "source": [
    "unread_mail_list.sort(key=msg_time_to_ts, reverse=True)"
   ]
  },
  {
   "cell_type": "code",
   "execution_count": 15,
   "metadata": {},
   "outputs": [],
   "source": [
    "unread_mail_list = list(filter(lambda m: msg_time_to_ts(m) > msg_datetime_cutoff, unread_mail_list))"
   ]
  },
  {
   "cell_type": "code",
   "execution_count": 16,
   "metadata": {},
   "outputs": [
    {
     "data": {
      "text/plain": [
       "4126"
      ]
     },
     "execution_count": 16,
     "metadata": {},
     "output_type": "execute_result"
    }
   ],
   "source": [
    "len(unread_mail_list)"
   ]
  },
  {
   "cell_type": "code",
   "execution_count": null,
   "metadata": {
    "scrolled": true
   },
   "outputs": [],
   "source": [
    "list(map(lambda m: m[\"Subject\"], unread_mail_list[:20]))"
   ]
  },
  {
   "cell_type": "code",
   "execution_count": 22,
   "metadata": {},
   "outputs": [],
   "source": [
    "def collapse_threads_and_filter_self_sent(mail_list):\n",
    "    # for emails in the same thread, only use the first email\n",
    "    mail_threads = defaultdict(list)\n",
    "    for msg in mail_list:\n",
    "        g_thrid = msg[\"X-GM-THRID\"]\n",
    "        mail_threads[g_thrid].append(msg)\n",
    "    mail_list = [msgs[-1] for msgs in mail_threads.values()]\n",
    "    # also filter out sent by me\n",
    "    mail_list = list(filter(lambda m: \"<masked out>\" not in m[\"From\"], mail_list))\n",
    "    mail_list = list(filter(lambda m: \"<masked out>\" not in m[\"From\"], mail_list))\n",
    "    return mail_list"
   ]
  },
  {
   "cell_type": "code",
   "execution_count": 23,
   "metadata": {},
   "outputs": [],
   "source": [
    "opened_mail_list = collapse_threads_and_filter_self_sent(opened_mail_list)\n",
    "unread_mail_list = collapse_threads_and_filter_self_sent(unread_mail_list)"
   ]
  },
  {
   "cell_type": "markdown",
   "metadata": {},
   "source": [
    "### now we can try to extract features from the positive (read) and negative (unread) examples\n",
    "1. sender's domain\n",
    "2. number of urls in email subject\n",
    "3. number of urls in email body\n",
    "4. number of attachments\n",
    "5. tf-idf from subject\n",
    "6. tf-idf from body\n",
    "7. whether there's a thread to the message"
   ]
  },
  {
   "cell_type": "code",
   "execution_count": 25,
   "metadata": {},
   "outputs": [],
   "source": [
    "# helper functions to clean up raw text\n",
    "def has_zh_cn(text):\n",
    "    # because most of my emails are english, it suffices to just check if there's any chinese in the email\n",
    "    # i'll check all email with chinese in\n",
    "    return re.search(r\"[\\u4e00-\\u9FFF]\", text) is not None\n",
    "\n",
    "def break_hyphens(text):\n",
    "    pat = r\"-\"\n",
    "    return re.sub(pat, \" \", text)\n",
    "\n",
    "def remove_special_chars(text):\n",
    "    pat = r\"[^a-zA-Z0-9\\s]\"\n",
    "    return re.sub(pat, '', text)\n",
    "\n",
    "\n",
    "def is_url(text):\n",
    "    pat = r\"(https?://)?(www\\.)?[a-zA-Z0-9]+\\.[a-zA-Z0-9]+[^\\s]*\"\n",
    "    return re.search(pat, text) is not None\n",
    "\n",
    "\n",
    "def is_email(text):\n",
    "    pat = r\"[^\\s]+@[^\\s]+\"\n",
    "    return re.search(pat, text) is not None\n",
    "\n",
    "\n",
    "def clean_english(text):\n",
    "    sw = stopwords.words(\"english\")\n",
    "    text = contractions.fix(text)\n",
    "    text = break_hyphens(text)\n",
    "    lowered_text = map(lambda w: w.strip().lower(), text.split())\n",
    "    \n",
    "    url_encoded_text = map(lambda w: \"<URL>\" if is_url(w) else w, lowered_text)\n",
    "    email_encoded_text = map(lambda w: \"<EMAIL>\" if is_email(w) else w, url_encoded_text)\n",
    "    \n",
    "    text = map(lambda w: remove_special_chars(w) if w not in (\"<URL>\", \"<EMAIL>\") else w, email_encoded_text)\n",
    "    text = map(lambda w: \"<NUM>\" if w.isdecimal() else w, text)\n",
    "    filtered_text = filter(lambda w: w and w not in sw, text)\n",
    "    return \" \".join([wnl.lemmatize(w) for w in filtered_text])\n",
    "    "
   ]
  },
  {
   "cell_type": "code",
   "execution_count": 27,
   "metadata": {},
   "outputs": [],
   "source": [
    "# helper functions to parse text features\n",
    "links_regex_str = r'<a[^>]+href=[^>]+>'\n",
    "\n",
    "def count_ccs(msg):\n",
    "    count = 0\n",
    "    if \"Cc\" in msg:\n",
    "        count += len(msg[\"Cc\"].split())\n",
    "    if \"Bcc\" in msg:\n",
    "        count += len(msg[\"Bcc\"].split())\n",
    "    return count\n",
    "\n",
    "def count_links(msg):\n",
    "    count = 0\n",
    "    for subpart in typed_subpart_iterator(msg, subtype='html'):\n",
    "        count += len(re.findall(r'<a[^>]+href=[^>]+>', subpart.get_payload()))\n",
    "    return count\n",
    "\n",
    "def parse_msg_body_from_html(msg):\n",
    "    soup = BeautifulSoup(msg)\n",
    "    for script in soup([\"script\", \"style\"]):\n",
    "        script.decompose()\n",
    "    for pre in soup([\"pre\"]):\n",
    "        pre.decompose()\n",
    "    raw_text = soup.get_text(\" \", strip=True)\n",
    "    return clean_english(raw_text), has_zh_cn(raw_text)\n",
    "\n",
    "def get_body(msg):\n",
    "    body = []\n",
    "    has_cn = False\n",
    "    \n",
    "    # prioritize html since it's easier to parse\n",
    "    for subpart in typed_subpart_iterator(msg, subtype='html'):\n",
    "        msg_part_str = subpart.get_payload(decode=True).decode('utf-8', errors=\"ignore\")\n",
    "        \n",
    "        cleaned_text, has_cn = parse_msg_body_from_html(msg_part_str)\n",
    "        body.append(cleaned_text)\n",
    "        \n",
    "    if not body:\n",
    "        #try html files\n",
    "        for subpart in typed_subpart_iterator(msg, subtype='plain'):\n",
    "            msg_part_str = subpart.get_payload(decode=True).decode('utf-8', errors=\"ignore\")\n",
    "\n",
    "            cleaned_text, has_cn = parse_msg_body_from_html(msg_part_str) # although not an html document per se, useful for getting rid of the html special chars\n",
    "            body.append(cleaned_text)\n",
    "            \n",
    "    if sum(map(lambda b: len(b), body)) > 10000:\n",
    "        print(f\"Oversized message from={msg['From']} subject={msg['Subject']}\")\n",
    "    return ' '.join(body), 1 if has_cn else 0\n",
    "\n",
    "def decode_header_field(s):\n",
    "    b_str, encoding = decode_header(s)[0]\n",
    "    if not encoding:\n",
    "        return s\n",
    "    return b_str.decode(encoding)\n",
    "\n",
    "def get_subject(msg):\n",
    "    raw_text = decode_header_field(msg[\"Subject\"])\n",
    "    # remove all emoji\n",
    "    pat = r\"=\\?UTF-8\\?.*\\?=\"\n",
    "    text = re.sub(pat, '', raw_text)\n",
    "    return clean_english(text), 1 if has_zh_cn(text) else 0\n",
    "\n",
    "def count_attachments(msg):\n",
    "    count = 0\n",
    "    for subpart in typed_subpart_iterator(msg, maintype='application'):\n",
    "        count += 1\n",
    "    return count"
   ]
  },
  {
   "cell_type": "code",
   "execution_count": null,
   "metadata": {
    "scrolled": false
   },
   "outputs": [],
   "source": [
    "all_samples = opened_mail_list + unread_mail_list\n",
    "all_labels = [1 for _ in opened_mail_list] + [0 for _ in unread_mail_list]\n",
    "\n",
    "froms = [m[\"From\"] for m in all_samples] # strings\n",
    "subjects, subject_has_cn = zip(*[get_subject(m) for m in all_samples]) # strings\n",
    "num_ccs = [count_ccs(m) for m in all_samples] # numbers\n",
    "num_links = [count_links(m) for m in all_samples] # numbers\n",
    "bodies, body_has_cn = zip(*[get_body(m) for m in all_samples]) # strings\n",
    "num_attachments = [count_attachments(m) for m in all_samples] # numbers"
   ]
  },
  {
   "cell_type": "code",
   "execution_count": 29,
   "metadata": {},
   "outputs": [],
   "source": [
    "# perhaps we should split the from to 3 different features\n",
    "# 1. if the address is resolveable or not\n",
    "# 2. email username\n",
    "# 3. domain name\n",
    "\n",
    "pattern = re.compile(r\"^(?P<alias>[^\\<\\>]*)\\s?<?(?P<usr>[^<\\s]*)@(?P<domain>[^>\\s]*)>?\")\n",
    "\n",
    "all_matches = [pattern.search(f) for f in froms]\n",
    "\n",
    "all_alias, all_usr, all_domain = [], [], []\n",
    "\n",
    "for i, match in enumerate(all_matches):\n",
    "    try:\n",
    "        alias, usr, domain = match.group(\"alias\").strip(), match.group(\"usr\"), match.group(\"domain\")\n",
    "        all_alias.append(decode_header_field(alias))\n",
    "        all_usr.append(usr)\n",
    "        all_domain.append(domain)\n",
    "    except Exception as e:\n",
    "        print(e)\n",
    "        print(froms[i])\n",
    "        print()"
   ]
  },
  {
   "cell_type": "code",
   "execution_count": 33,
   "metadata": {},
   "outputs": [],
   "source": [
    "numerical_df = pd.DataFrame(data={\n",
    "    \"num_ccs\": num_ccs,\n",
    "    \"num_links\": num_links,\n",
    "    \"num_attachments\": num_attachments,\n",
    "    \"read\": all_labels\n",
    "})"
   ]
  },
  {
   "cell_type": "code",
   "execution_count": 34,
   "metadata": {},
   "outputs": [
    {
     "data": {
      "text/plain": [
       "num_ccs            int64\n",
       "num_links          int64\n",
       "num_attachments    int64\n",
       "read               int64\n",
       "dtype: object"
      ]
     },
     "execution_count": 34,
     "metadata": {},
     "output_type": "execute_result"
    }
   ],
   "source": [
    "numerical_df.dtypes"
   ]
  },
  {
   "cell_type": "code",
   "execution_count": 35,
   "metadata": {},
   "outputs": [
    {
     "data": {
      "text/plain": [
       "<seaborn.axisgrid.PairGrid at 0x7fdc9e7cbfd0>"
      ]
     },
     "execution_count": 35,
     "metadata": {},
     "output_type": "execute_result"
    },
    {
     "data": {
      "image/png": "[encoded data removed]",
      "text/plain": [
       "<Figure size 582.375x540 with 12 Axes>"
      ]
     },
     "metadata": {
      "needs_background": "light"
     },
     "output_type": "display_data"
    }
   ],
   "source": [
    "sns.pairplot(numerical_df, hue=\"read\")"
   ]
  },
  {
   "cell_type": "code",
   "execution_count": 36,
   "metadata": {},
   "outputs": [],
   "source": [
    "\"\"\"\n",
    "we can see the two classes is roughly separable on all 3 dimensions\n",
    "\n",
    "now we'll extract bag of words features from subject and body\n",
    "\"\"\"\n",
    "data_df = pd.DataFrame({\n",
    "    \"gmail_alias\": all_alias,\n",
    "    \"usrname\": all_usr,\n",
    "    \"domain\": all_domain,\n",
    "    \"subject\": subjects,\n",
    "    \"body\": bodies,\n",
    "    \"num_ccs\": num_ccs,\n",
    "    \"num_urls\": num_links,\n",
    "    \"num_attachments\": num_attachments,\n",
    "    \"label\": all_labels\n",
    "})"
   ]
  },
  {
   "cell_type": "code",
   "execution_count": 37,
   "metadata": {},
   "outputs": [
    {
     "data": {
      "text/plain": [
       "4489"
      ]
     },
     "execution_count": 37,
     "metadata": {},
     "output_type": "execute_result"
    }
   ],
   "source": [
    "len(data_df)"
   ]
  },
  {
   "cell_type": "code",
   "execution_count": null,
   "metadata": {
    "scrolled": true
   },
   "outputs": [],
   "source": [
    "data_df.head()"
   ]
  },
  {
   "cell_type": "code",
   "execution_count": 40,
   "metadata": {},
   "outputs": [],
   "source": [
    "# Since we found some duplicated emails with different labels, we deduplicate the samples by\n",
    "# taking the average of the labels for all the occurrences of the same email and round \n",
    "# to the nearest int (either 0 or 1)\n",
    "deduped_df = data_df.groupby(data_df.columns.values.tolist()[:-1]).mean().apply(np.rint).reset_index()"
   ]
  },
  {
   "cell_type": "code",
   "execution_count": 68,
   "metadata": {},
   "outputs": [],
   "source": [
    "deduped_df.to_csv(\"<masked out>\")"
   ]
  }
 ],
 "metadata": {
  "kernelspec": {
   "display_name": "Python [conda env:temp]",
   "language": "python",
   "name": "conda-env-temp-py"
  },
  "language_info": {
   "codemirror_mode": {
    "name": "ipython",
    "version": 3
   },
   "file_extension": ".py",
   "mimetype": "text/x-python",
   "name": "python",
   "nbconvert_exporter": "python",
   "pygments_lexer": "ipython3",
   "version": "3.7.6"
  }
 },
 "nbformat": 4,
 "nbformat_minor": 2
}
